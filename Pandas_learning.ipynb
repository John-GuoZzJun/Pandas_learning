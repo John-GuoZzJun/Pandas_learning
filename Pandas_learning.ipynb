{
 "cells": [
  {
   "cell_type": "code",
   "execution_count": 1,
   "metadata": {
    "collapsed": true,
    "pycharm": {
     "name": "#%%\n"
    }
   },
   "outputs": [
    {
     "name": "stdout",
     "output_type": "stream",
     "text": [
      "0    9\n",
      "1    8\n",
      "2    7\n",
      "3    6\n",
      "dtype: int64\n"
     ]
    }
   ],
   "source": [
    "# List create\n",
    "import pandas as pd\n",
    "a = pd.Series([9,8,7,6])  # 前一列为序列好，第二列对应要创建的数据\n",
    "print(a)"
   ]
  },
  {
   "cell_type": "code",
   "execution_count": 3,
   "outputs": [
    {
     "name": "stdout",
     "output_type": "stream",
     "text": [
      "a    9\n",
      "b    8\n",
      "c    7\n",
      "d    6\n",
      "dtype: int64\n"
     ]
    }
   ],
   "source": [
    "# List create and set the name of the indexs\n",
    "import pandas as pd\n",
    "a = pd.Series([9,8,7,6], index=['a','b','c','d'])\n",
    "print(a)"
   ],
   "metadata": {
    "collapsed": false,
    "pycharm": {
     "name": "#%%\n"
    }
   }
  },
  {
   "cell_type": "code",
   "execution_count": 4,
   "outputs": [
    {
     "name": "stdout",
     "output_type": "stream",
     "text": [
      "a    1\n",
      "b    2\n",
      "c    7\n",
      "dtype: int64\n"
     ]
    }
   ],
   "source": [
    "# Dictionary create\n",
    "import pandas as pd\n",
    "\n",
    "a = pd.Series({'a':1, 'b':2, 'c':7})\n",
    "print(a)"
   ],
   "metadata": {
    "collapsed": false,
    "pycharm": {
     "name": "#%%\n"
    }
   }
  },
  {
   "cell_type": "code",
   "execution_count": 7,
   "outputs": [
    {
     "name": "stdout",
     "output_type": "stream",
     "text": [
      "0    0\n",
      "1    1\n",
      "2    2\n",
      "3    3\n",
      "4    4\n",
      "dtype: int32\n",
      "9    0\n",
      "8    1\n",
      "7    2\n",
      "6    3\n",
      "5    4\n",
      "dtype: int32\n"
     ]
    }
   ],
   "source": [
    "# Create ndarray type\n",
    "import pandas as pd\n",
    "import numpy as np\n",
    "n = pd.Series(np.arange(5))\n",
    "print(n)\n",
    "\n",
    "m = pd.Series(np.arange(5), index=np.arange(9,4,-1))\n",
    "print(m)"
   ],
   "metadata": {
    "collapsed": false,
    "pycharm": {
     "name": "#%%\n"
    }
   }
  },
  {
   "cell_type": "code",
   "execution_count": 14,
   "outputs": [
    {
     "name": "stdout",
     "output_type": "stream",
     "text": [
      "a    9\n",
      "b    8\n",
      "c    7\n",
      "d    6\n",
      "dtype: int64\n",
      "The index is Index(['a', 'b', 'c', 'd'], dtype='object')\n",
      "The values are [9 8 7 6]\n"
     ]
    }
   ],
   "source": [
    "# Series includes 2 parts: 'index' and 'values'\n",
    "import pandas as pd\n",
    "b = pd.Series([9,8,7,6], ['a','b','c','d'])\n",
    "print(b)\n",
    "print(f\"The index is {b.index}.\")\n",
    "print(f\"The values are {b.values}.\")"
   ],
   "metadata": {
    "collapsed": false,
    "pycharm": {
     "name": "#%%\n"
    }
   }
  },
  {
   "cell_type": "code",
   "execution_count": 16,
   "outputs": [
    {
     "name": "stdout",
     "output_type": "stream",
     "text": [
      "a    10.0\n",
      "b    10.0\n",
      "c     NaN\n",
      "d     NaN\n",
      "e     NaN\n",
      "dtype: float64\n"
     ]
    }
   ],
   "source": [
    "# Series can link the datas of same index together\n",
    "import pandas as pd\n",
    "a = pd.Series([1,2,3], ['a','b','e'])\n",
    "b = pd.Series([9,8,7,6], ['a','b','c','d'])\n",
    "print(a+b)"
   ],
   "metadata": {
    "collapsed": false,
    "pycharm": {
     "name": "#%%\n"
    }
   }
  },
  {
   "cell_type": "code",
   "execution_count": 17,
   "outputs": [
    {
     "name": "stdout",
     "output_type": "stream",
     "text": [
      "Index\n",
      "a    9\n",
      "b    8\n",
      "c    7\n",
      "d    6\n",
      "Name: The object of Series, dtype: int64\n"
     ]
    }
   ],
   "source": [
    "# The object and index of Series can have its own name, it saves in .name\n",
    "import pandas as pd\n",
    "b = pd.Series([9,8,7,6], ['a','b','c','d'])\n",
    "b.name = \"The object of Series\"\n",
    "b.index.name = \"Index\"\n",
    "print(b)"
   ],
   "metadata": {
    "collapsed": false,
    "pycharm": {
     "name": "#%%\n"
    }
   }
  },
  {
   "cell_type": "code",
   "execution_count": null,
   "outputs": [],
   "source": [],
   "metadata": {
    "collapsed": false,
    "pycharm": {
     "name": "#%%\n"
    }
   }
  }
 ],
 "metadata": {
  "kernelspec": {
   "display_name": "Python 3",
   "language": "python",
   "name": "python3"
  },
  "language_info": {
   "codemirror_mode": {
    "name": "ipython",
    "version": 2
   },
   "file_extension": ".py",
   "mimetype": "text/x-python",
   "name": "python",
   "nbconvert_exporter": "python",
   "pygments_lexer": "ipython2",
   "version": "2.7.6"
  }
 },
 "nbformat": 4,
 "nbformat_minor": 0
}